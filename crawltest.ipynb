{
 "cells": [
  {
   "cell_type": "code",
   "execution_count": 1,
   "metadata": {},
   "outputs": [],
   "source": [
    "from selenium import webdriver\n",
    "import re\n",
    "from itertools import chain\n",
    "import urllib.request\n",
    "from tqdm import tqdm"
   ]
  },
  {
   "cell_type": "code",
   "execution_count": 127,
   "metadata": {},
   "outputs": [],
   "source": [
    "class DownloadProgressBar(tqdm):\n",
    "    def update_to(self, b=1, bsize=1, tsize=None):\n",
    "        if tsize is not None:\n",
    "            self.total = tsize\n",
    "        self.update(b * bsize - self.n)\n",
    "\n",
    "\n",
    "def download_url(url, output_path):\n",
    "    with DownloadProgressBar(unit='B', unit_scale=True,\n",
    "                             miniters=1, desc=url.split('/')[-1]) as t:\n",
    "        urllib.request.urlretrieve(url, filename=output_path, reporthook=t.update_to)"
   ]
  },
  {
   "cell_type": "code",
   "execution_count": 6,
   "metadata": {},
   "outputs": [],
   "source": [
    "import os"
   ]
  },
  {
   "cell_type": "code",
   "execution_count": 19,
   "metadata": {},
   "outputs": [],
   "source": [
    "driver = webdriver.Chrome(executable_path='./chromedriver')\n",
    "driver.implicitly_wait(3)"
   ]
  },
  {
   "cell_type": "code",
   "execution_count": 20,
   "metadata": {},
   "outputs": [],
   "source": [
    "keyword = 'phase contrast'\n",
    "keyword = keyword.replace(\" \", \"+\")\n",
    "base = f'http://cellimagelibrary.org/images?k={keyword}&simple_search=Search'\n",
    "url = 'http://cellimagelibrary.org/images?k={keyword}&simple_search=Search&page={page}&per_page=100'"
   ]
  },
  {
   "cell_type": "code",
   "execution_count": 33,
   "metadata": {},
   "outputs": [],
   "source": [
    "driver.get(base)\n",
    "result_text = driver.find_element_by_xpath('//*[@id=\"browse_header\"]/div[1]/div').text"
   ]
  },
  {
   "cell_type": "code",
   "execution_count": 62,
   "metadata": {},
   "outputs": [],
   "source": [
    "driver.get(url.format(keyword=keyword, page=1))"
   ]
  },
  {
   "cell_type": "code",
   "execution_count": 79,
   "metadata": {},
   "outputs": [],
   "source": [
    "rows = driver.find_elements_by_xpath('/html/body/div[5]/div')[2:-1]"
   ]
  },
  {
   "cell_type": "code",
   "execution_count": 125,
   "metadata": {
    "scrolled": true
   },
   "outputs": [
    {
     "data": {
      "text/plain": [
       "['35463',\n",
       " '12594',\n",
       " '43705',\n",
       " '35462',\n",
       " '13002',\n",
       " '37241',\n",
       " '11127',\n",
       " '42508',\n",
       " '38950',\n",
       " '11954',\n",
       " '39225',\n",
       " '35138',\n",
       " '35144',\n",
       " '35127',\n",
       " '35132',\n",
       " '35136',\n",
       " '35145',\n",
       " '35134',\n",
       " '35137',\n",
       " '35141',\n",
       " '35131',\n",
       " '35133',\n",
       " '35139',\n",
       " '35143',\n",
       " '12017',\n",
       " '12013',\n",
       " '39587',\n",
       " '19336',\n",
       " '35129',\n",
       " '35130',\n",
       " '35135',\n",
       " '35140',\n",
       " '35142',\n",
       " '25692',\n",
       " '25695',\n",
       " '35165',\n",
       " '39586',\n",
       " '39590',\n",
       " '12626',\n",
       " '152',\n",
       " '27831',\n",
       " '27832',\n",
       " '41019',\n",
       " '35201',\n",
       " '31926',\n",
       " '39228',\n",
       " '12016',\n",
       " '35213',\n",
       " '39589',\n",
       " '39588',\n",
       " '39032',\n",
       " '41735',\n",
       " '47811',\n",
       " '7428',\n",
       " '35164',\n",
       " '35751',\n",
       " '35756',\n",
       " '35757',\n",
       " '12012',\n",
       " '12625',\n",
       " '155',\n",
       " '41553',\n",
       " '31927',\n",
       " '35617',\n",
       " '39227',\n",
       " '39229',\n",
       " '40986',\n",
       " '25566',\n",
       " '35212',\n",
       " '12577',\n",
       " '35210',\n",
       " '19326',\n",
       " '19337',\n",
       " '35741',\n",
       " '35752',\n",
       " '35753',\n",
       " '39572',\n",
       " '10064',\n",
       " '147',\n",
       " '159',\n",
       " '25693',\n",
       " '25694',\n",
       " '11952',\n",
       " '34538',\n",
       " '35209',\n",
       " '35214',\n",
       " '19325',\n",
       " '35748',\n",
       " '35754',\n",
       " '39573',\n",
       " '39574',\n",
       " '35745',\n",
       " '35746',\n",
       " '35749',\n",
       " '35755',\n",
       " '25112',\n",
       " '24568',\n",
       " '24569',\n",
       " '39670',\n",
       " '39673']"
      ]
     },
     "execution_count": 125,
     "metadata": {},
     "output_type": "execute_result"
    }
   ],
   "source": [
    "cell_ids = list(chain.from_iterable([re.findall('(?<=CIL:)\\d+', row.text) for row in rows]))"
   ]
  },
  {
   "cell_type": "code",
   "execution_count": 2,
   "metadata": {},
   "outputs": [],
   "source": [
    "cell_id = '35463'\n",
    "url=f'https://cildata.crbs.ucsd.edu/media/images/{cell_id}/{cell_id}.tif'"
   ]
  },
  {
   "cell_type": "code",
   "execution_count": 3,
   "metadata": {},
   "outputs": [],
   "source": [
    "import requests"
   ]
  },
  {
   "cell_type": "code",
   "execution_count": 4,
   "metadata": {},
   "outputs": [],
   "source": [
    "resp = requests.get(url, stream=True)"
   ]
  },
  {
   "cell_type": "code",
   "execution_count": 10,
   "metadata": {},
   "outputs": [
    {
     "data": {
      "text/plain": [
       "'4700000'"
      ]
     },
     "execution_count": 10,
     "metadata": {},
     "output_type": "execute_result"
    }
   ],
   "source": [
    "resp.headers.get('Content-Length')"
   ]
  },
  {
   "cell_type": "code",
   "execution_count": 6,
   "metadata": {},
   "outputs": [],
   "source": [
    "import os"
   ]
  },
  {
   "cell_type": "code",
   "execution_count": 8,
   "metadata": {},
   "outputs": [
    {
     "data": {
      "text/plain": [
       "4700000"
      ]
     },
     "execution_count": 8,
     "metadata": {},
     "output_type": "execute_result"
    }
   ],
   "source": [
    "os.stat('phase contrast/35463.tif').st_size"
   ]
  },
  {
   "cell_type": "code",
   "execution_count": null,
   "metadata": {},
   "outputs": [],
   "source": []
  }
 ],
 "metadata": {
  "kernelspec": {
   "display_name": "cell_crawl",
   "language": "python",
   "name": "cell_crawl"
  },
  "language_info": {
   "codemirror_mode": {
    "name": "ipython",
    "version": 3
   },
   "file_extension": ".py",
   "mimetype": "text/x-python",
   "name": "python",
   "nbconvert_exporter": "python",
   "pygments_lexer": "ipython3",
   "version": "3.8.8"
  }
 },
 "nbformat": 4,
 "nbformat_minor": 4
}
